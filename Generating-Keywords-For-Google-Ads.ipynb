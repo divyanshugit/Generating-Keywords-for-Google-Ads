{
 "cells": [
  {
   "cell_type": "markdown",
   "metadata": {},
   "source": [
    "## Getting Started\n",
    "<p>In this project, we will make a tool that will automatically generate keywords for a search engine marketing campaign using Python.  We are tasked with creating a prototype set of keywords for search campaigns for their sofas section. The client says that they want us to generate keywords for the following products:</p>\n",
    "<ul>\n",
    "<li>sofas</li>\n",
    "<li>convertible sofas</li>\n",
    "<li>love seats</li>\n",
    "<li>recliners</li>\n",
    "<li>sofa beds</li>\n",
    "</ul>\n",
    "<p><strong>The brief</strong>: The client is generally a low-cost retailer, offering many promotions and discounts. We will need to focus on such keywords. We will also need to move away from luxury keywords and topics, as we are targeting price-sensitive customers. Because we are going to be tight on budget, it would be good to focus on a tightly targeted set of keywords and make sure they are all set to exact and phrase match.</p>\n",
    "<p>Based on the brief above we will first need to generate a list of words, that together with the products given above would make for good keywords. Here are some examples:</p>\n",
    "<ul>\n",
    "<li>Products: sofas, recliners</li>\n",
    "<li>Words: buy, prices</li>\n",
    "</ul>\n",
    "<p>The resulting keywords: 'buy sofas', 'sofas buy', 'buy recliners', 'recliners buy',\n",
    "          'prices sofas', 'sofas prices', 'prices recliners', 'recliners prices'.</p>\n",
    "<p>As a final result, we want to have a DataFrame that looks like this: </p>\n",
    "<table>\n",
    "<thead>\n",
    "<tr>\n",
    "<th>Campaign</th>\n",
    "<th>Ad Group</th>\n",
    "<th>Keyword</th>\n",
    "<th>Criterion Type</th>\n",
    "</tr>\n",
    "</thead>\n",
    "<tbody>\n",
    "<tr>\n",
    "<td>Campaign1</td>\n",
    "<td>AdGroup_1</td>\n",
    "<td>keyword 1a</td>\n",
    "<td>Exact</td>\n",
    "</tr>\n",
    "<tr>\n",
    "<td>Campaign1</td>\n",
    "<td>AdGroup_1</td>\n",
    "<td>keyword 1a</td>\n",
    "<td>Phrase</td>\n",
    "</tr>\n",
    "<tr>\n",
    "<td>Campaign1</td>\n",
    "<td>AdGroup_1</td>\n",
    "<td>keyword 1b</td>\n",
    "<td>Exact</td>\n",
    "</tr>\n",
    "<tr>\n",
    "<td>Campaign1</td>\n",
    "<td>AdGroup_1</td>\n",
    "<td>keyword 1b</td>\n",
    "<td>Phrase</td>\n",
    "</tr>\n",
    "<tr>\n",
    "<td>Campaign1</td>\n",
    "<td>AdGroup_2</td>\n",
    "<td>keyword 2a</td>\n",
    "<td>Exact</td>\n",
    "</tr>\n",
    "<tr>\n",
    "<td>Campaign1</td>\n",
    "<td>AdGroup_2</td>\n",
    "<td>keyword 2a</td>\n",
    "<td>Phrase</td>\n",
    "</tr>\n",
    "</tbody>\n",
    "</table>\n",
    "<p>The first step is to come up with a list of words that users might use to express their desire in buying low-cost sofas.</p>\n"
   ]
  },
  {
   "cell_type": "code",
   "execution_count": 12,
   "metadata": {},
   "outputs": [],
   "source": [
    "# Loading neccesary packages.\n",
    "\n",
    "import numpy as np\n",
    "import pandas as pd\n",
    "from pprint import pprint"
   ]
  },
  {
   "cell_type": "code",
   "execution_count": 13,
   "metadata": {},
   "outputs": [
    {
     "name": "stdout",
     "output_type": "stream",
     "text": [
      "['sale', 'bargain', 'affordable', 'cheap', 'low cost', 'low price', 'budget', 'inexpensive', 'economical']\n"
     ]
    }
   ],
   "source": [
    "# List of words to pair with products\n",
    "\n",
    "words = ['sale', 'bargain', 'affordable',\n",
    "         'cheap', 'low cost', 'low price', 'budget', 'inexpensive', 'economical']\n",
    "\n",
    "# Print list of words\n",
    "\n",
    "print(words)"
   ]
  },
  {
   "cell_type": "markdown",
   "metadata": {},
   "source": [
    "## Combine the words with the product names\n",
    "<p>Imagining all the possible combinations of keywords can be stressful! But not for us, because we are keyword ninjas! We know how to translate campaign briefs into Python data structures and can imagine the resulting DataFrames that we need to create.</p>\n",
    "<p>Now that we have brainstormed the words that work well with the brief that we received, it is now time to combine them with the product names to generate meaningful search keywords. We want to combine every word with every product once before, and once after, as seen in the example above.</p>\n",
    "<p>As a quick reminder, for the product 'recliners' and the words 'buy' and 'price' for example, we would want to generate the following combinations: </p>\n",
    "<p>buy recliners<br>\n",
    "recliners buy<br>\n",
    "price recliners<br>\n",
    "recliners price<br>\n",
    "…  </p>\n",
    "<p>and so on for all the words and products that we have.</p>"
   ]
  },
  {
   "cell_type": "code",
   "execution_count": 14,
   "metadata": {},
   "outputs": [
    {
     "name": "stdout",
     "output_type": "stream",
     "text": [
      "[['sofas', 'sofas sale'],\n",
      " ['sofas', 'sale sofas'],\n",
      " ['sofas', 'sofas bargain'],\n",
      " ['sofas', 'bargain sofas'],\n",
      " ['sofas', 'sofas affordable'],\n",
      " ['sofas', 'affordable sofas'],\n",
      " ['sofas', 'sofas cheap'],\n",
      " ['sofas', 'cheap sofas'],\n",
      " ['sofas', 'sofas low cost'],\n",
      " ['sofas', 'low cost sofas'],\n",
      " ['sofas', 'sofas low price'],\n",
      " ['sofas', 'low price sofas'],\n",
      " ['sofas', 'sofas budget'],\n",
      " ['sofas', 'budget sofas'],\n",
      " ['sofas', 'sofas inexpensive'],\n",
      " ['sofas', 'inexpensive sofas'],\n",
      " ['sofas', 'sofas economical'],\n",
      " ['sofas', 'economical sofas'],\n",
      " ['convertible sofas', 'convertible sofas sale'],\n",
      " ['convertible sofas', 'sale convertible sofas'],\n",
      " ['convertible sofas', 'convertible sofas bargain'],\n",
      " ['convertible sofas', 'bargain convertible sofas'],\n",
      " ['convertible sofas', 'convertible sofas affordable'],\n",
      " ['convertible sofas', 'affordable convertible sofas'],\n",
      " ['convertible sofas', 'convertible sofas cheap'],\n",
      " ['convertible sofas', 'cheap convertible sofas'],\n",
      " ['convertible sofas', 'convertible sofas low cost'],\n",
      " ['convertible sofas', 'low cost convertible sofas'],\n",
      " ['convertible sofas', 'convertible sofas low price'],\n",
      " ['convertible sofas', 'low price convertible sofas'],\n",
      " ['convertible sofas', 'convertible sofas budget'],\n",
      " ['convertible sofas', 'budget convertible sofas'],\n",
      " ['convertible sofas', 'convertible sofas inexpensive'],\n",
      " ['convertible sofas', 'inexpensive convertible sofas'],\n",
      " ['convertible sofas', 'convertible sofas economical'],\n",
      " ['convertible sofas', 'economical convertible sofas'],\n",
      " ['love seats', 'love seats sale'],\n",
      " ['love seats', 'sale love seats'],\n",
      " ['love seats', 'love seats bargain'],\n",
      " ['love seats', 'bargain love seats'],\n",
      " ['love seats', 'love seats affordable'],\n",
      " ['love seats', 'affordable love seats'],\n",
      " ['love seats', 'love seats cheap'],\n",
      " ['love seats', 'cheap love seats'],\n",
      " ['love seats', 'love seats low cost'],\n",
      " ['love seats', 'low cost love seats'],\n",
      " ['love seats', 'love seats low price'],\n",
      " ['love seats', 'low price love seats'],\n",
      " ['love seats', 'love seats budget'],\n",
      " ['love seats', 'budget love seats'],\n",
      " ['love seats', 'love seats inexpensive'],\n",
      " ['love seats', 'inexpensive love seats'],\n",
      " ['love seats', 'love seats economical'],\n",
      " ['love seats', 'economical love seats'],\n",
      " ['recliners', 'recliners sale'],\n",
      " ['recliners', 'sale recliners'],\n",
      " ['recliners', 'recliners bargain'],\n",
      " ['recliners', 'bargain recliners'],\n",
      " ['recliners', 'recliners affordable'],\n",
      " ['recliners', 'affordable recliners'],\n",
      " ['recliners', 'recliners cheap'],\n",
      " ['recliners', 'cheap recliners'],\n",
      " ['recliners', 'recliners low cost'],\n",
      " ['recliners', 'low cost recliners'],\n",
      " ['recliners', 'recliners low price'],\n",
      " ['recliners', 'low price recliners'],\n",
      " ['recliners', 'recliners budget'],\n",
      " ['recliners', 'budget recliners'],\n",
      " ['recliners', 'recliners inexpensive'],\n",
      " ['recliners', 'inexpensive recliners'],\n",
      " ['recliners', 'recliners economical'],\n",
      " ['recliners', 'economical recliners'],\n",
      " ['sofa beds', 'sofa beds sale'],\n",
      " ['sofa beds', 'sale sofa beds'],\n",
      " ['sofa beds', 'sofa beds bargain'],\n",
      " ['sofa beds', 'bargain sofa beds'],\n",
      " ['sofa beds', 'sofa beds affordable'],\n",
      " ['sofa beds', 'affordable sofa beds'],\n",
      " ['sofa beds', 'sofa beds cheap'],\n",
      " ['sofa beds', 'cheap sofa beds'],\n",
      " ['sofa beds', 'sofa beds low cost'],\n",
      " ['sofa beds', 'low cost sofa beds'],\n",
      " ['sofa beds', 'sofa beds low price'],\n",
      " ['sofa beds', 'low price sofa beds'],\n",
      " ['sofa beds', 'sofa beds budget'],\n",
      " ['sofa beds', 'budget sofa beds'],\n",
      " ['sofa beds', 'sofa beds inexpensive'],\n",
      " ['sofa beds', 'inexpensive sofa beds'],\n",
      " ['sofa beds', 'sofa beds economical'],\n",
      " ['sofa beds', 'economical sofa beds']]\n"
     ]
    }
   ],
   "source": [
    "products = ['sofas', 'convertible sofas', 'love seats', 'recliners', 'sofa beds']\n",
    "\n",
    "# Create an empty list\n",
    "keywords_list = []\n",
    "\n",
    "# Loop through products\n",
    "for product in products :\n",
    "    # Loop through words\n",
    "    for word in words :\n",
    "        # Append combinations\n",
    "        keywords_list.append([product, product + ' ' + word])\n",
    "        keywords_list.append([product, word + ' ' + product])\n",
    "        \n",
    "# Inspect keyword list\n",
    "\n",
    "pprint(keywords_list)"
   ]
  },
  {
   "cell_type": "markdown",
   "metadata": {},
   "source": [
    "## Converted the list of lists into a DataFrame\n",
    "<p> Now we want to convert this list of lists into a DataFrame so we can easily manipulate it and manage the final output.</p>"
   ]
  },
  {
   "cell_type": "code",
   "execution_count": 15,
   "metadata": {},
   "outputs": [
    {
     "name": "stdout",
     "output_type": "stream",
     "text": [
      "       0                 1\n",
      "0  sofas        sofas sale\n",
      "1  sofas        sale sofas\n",
      "2  sofas     sofas bargain\n",
      "3  sofas     bargain sofas\n",
      "4  sofas  sofas affordable\n"
     ]
    }
   ],
   "source": [
    "# Create a DataFrame from list\n",
    "keywords_df = pd.DataFrame.from_records(keywords_list)\n",
    "\n",
    "# Print the keywords DataFrame to explore it\n",
    "print(keywords_df.head())"
   ]
  },
  {
   "cell_type": "markdown",
   "metadata": {},
   "source": [
    "## Renamed the columns of the DataFrame\n",
    "<p>Before we can upload this table of keywords, we will need to give the columns meaningful names. If we inspect the DataFrame we just created above, we can see that the columns are currently named <code>0</code> and <code>1</code>. <code>Ad Group</code> (example: \"sofas\") and <code>Keyword</code> (example: \"sofas buy\") are much more appropriate names.</p>"
   ]
  },
  {
   "cell_type": "code",
   "execution_count": 16,
   "metadata": {},
   "outputs": [],
   "source": [
    "# Rename the columns of the DataFrame\n",
    "keywords_df = keywords_df.rename(columns={0:'Ad Group', 1:'Keyword'})"
   ]
  },
  {
   "cell_type": "markdown",
   "metadata": {},
   "source": [
    "## Added a campaign column\n",
    "<p>Now we need to add some additional information to our DataFrame. \n",
    "We need a new column called <code>Campaign</code> for the campaign name. We want campaign names to be descriptive of our group of keywords and products, so let's call this campaign 'SEM_Sofas'.</p>"
   ]
  },
  {
   "cell_type": "code",
   "execution_count": 17,
   "metadata": {},
   "outputs": [],
   "source": [
    "# Add a campaign column\n",
    "keywords_df['Campaign'] = 'SEM_Sofas'"
   ]
  },
  {
   "cell_type": "markdown",
   "metadata": {},
   "source": [
    "## Create the match type column\n",
    "<p>There are different keyword match types. One is exact match, which is for matching the exact term or are close variations of that exact term. Another match type is broad match, which means ads may show on searches that include misspellings, synonyms, related searches, and other relevant variations.</p>\n",
    "<p>Straight from Google's AdWords <a href=\"https://support.google.com/google-ads/answer/2497836?hl=en\">documentation</a>:</p>\n",
    "<blockquote>\n",
    "  <p>In general, the broader the match type, the more traffic potential that keyword will have, since your ads may be triggered more often. Conversely, a narrower match type means that your ads may show less often—but when they do, they’re likely to be more related to someone’s search.</p>\n",
    "</blockquote>\n",
    "<p>Since the client is tight on budget, we want to make sure all the keywords are in exact match at the beginning.</p>"
   ]
  },
  {
   "cell_type": "code",
   "execution_count": 18,
   "metadata": {},
   "outputs": [],
   "source": [
    "# Add a criterion type column\n",
    "keywords_df['Criterion Type'] = 'Exact'"
   ]
  },
  {
   "cell_type": "markdown",
   "metadata": {},
   "source": [
    "## Duplicate all the keywords into 'phrase' match\n",
    "<p>The great thing about exact match is that it is very specific, and we can control the process very well. The tradeoff, however, is that:  </p>\n",
    "<ol>\n",
    "<li>The search volume for exact match is lower than other match types</li>\n",
    "<li>We can't possibly think of all the ways in which people search, and so, we are probably missing out on some high-quality keywords.</li>\n",
    "</ol>\n",
    "<p>So it's good to use another match called <em>phrase match</em> as a discovery mechanism to allow our ads to be triggered by keywords that include our exact match keywords, together with anything before (or after) them.</p>\n",
    "<p>Later on, when we launch the campaign, we can explore with modified broad match, broad match, and negative match types, for better visibility and control of our campaigns.</p>"
   ]
  },
  {
   "cell_type": "code",
   "execution_count": 19,
   "metadata": {},
   "outputs": [],
   "source": [
    "# Make a copy of the keywords DataFrame\n",
    "keywords_phrase = keywords_df.copy()\n",
    "\n",
    "# Change criterion type match to phrase\n",
    "keywords_phrase['Criterion Type'] = 'Phrase'\n",
    "\n",
    "# Append the DataFrames\n",
    "keywords_df_final = keywords_df.append(keywords_phrase)"
   ]
  },
  {
   "cell_type": "markdown",
   "metadata": {},
   "source": [
    "## Save and summarize!\n",
    "<p>To upload our campaign, we need to save it as a CSV file. Then we will be able to import it to AdWords editor or BingAds editor. There is also the option of pasting the data into the editor if we want, but having easy access to the saved data is great so let's save to a CSV file!</p>\n",
    "<p>Looking at a summary of our campaign structure is good now that we've wrapped up our keyword work. We can do that by grouping by ad group and criterion type and counting by keyword. This summary shows us that we assigned specific keywords to specific ad groups, which are each part of a campaign. In essence, we are telling Google (or Bing, etc.) that we want any of the words in each ad group to trigger one of the ads in the same ad group. Separately, we will have to create another table for ads, which is a task for another day and would look something like this:</p>\n",
    "<table>\n",
    "<thead>\n",
    "<tr>\n",
    "<th>Campaign</th>\n",
    "<th>Ad Group</th>\n",
    "<th>Headline 1</th>\n",
    "<th>Headline 2</th>\n",
    "<th>Description</th>\n",
    "<th>Final URL</th>\n",
    "</tr>\n",
    "</thead>\n",
    "<tbody>\n",
    "<tr>\n",
    "<td>SEM_Sofas</td>\n",
    "<td>Sofas</td>\n",
    "<td>Looking for Quality Sofas?</td>\n",
    "<td>Explore Our Massive Collection</td>\n",
    "<td>30-day Returns With Free Delivery Within the US. Start Shopping Now</td>\n",
    "<td>UnknownSofas.com/sofas</td>\n",
    "</tr>\n",
    "<tr>\n",
    "<td>SEM_Sofas</td>\n",
    "<td>Sofas</td>\n",
    "<td>Looking for Affordable Sofas?</td>\n",
    "<td>Check Out Our Weekly Offers</td>\n",
    "<td>30-day Returns With Free Delivery Within the US. Start Shopping Now</td>\n",
    "<td>UnknownSofas.com/sofas</td>\n",
    "</tr>\n",
    "<tr>\n",
    "<td>SEM_Sofas</td>\n",
    "<td>Recliners</td>\n",
    "<td>Looking for Quality Recliners?</td>\n",
    "<td>Explore Our Massive Collection</td>\n",
    "<td>30-day Returns With Free Delivery Within the US. Start Shopping Now</td>\n",
    "<td>UnknownSofas.com/recliners</td>\n",
    "</tr>\n",
    "<tr>\n",
    "<td>SEM_Sofas</td>\n",
    "<td>Recliners</td>\n",
    "<td>Need Affordable Recliners?</td>\n",
    "<td>Check Out Our Weekly Offers</td>\n",
    "<td>30-day Returns With Free Delivery Within the US. Start Shopping Now</td>\n",
    "<td>UnknownSofas.com/recliners</td>\n",
    "</tr>\n",
    "</tbody>\n",
    "</table>\n",
    "<p>Together, these tables get us the sample <strong>keywords -> ads -> landing pages</strong> mapping shown in the diagram below.</p>\n",
    "<p><img src=\"https://assets.datacamp.com/production/project_400/img/kwds_ads_lpages.png\" alt=\"Keywords-Ads-Landing pages flow\"></p>"
   ]
  },
  {
   "cell_type": "code",
   "execution_count": 20,
   "metadata": {},
   "outputs": [
    {
     "name": "stdout",
     "output_type": "stream",
     "text": [
      "Ad Group           Criterion Type\n",
      "convertible sofas  Exact             18\n",
      "                   Phrase            18\n",
      "love seats         Exact             18\n",
      "                   Phrase            18\n",
      "recliners          Exact             18\n",
      "                   Phrase            18\n",
      "sofa beds          Exact             18\n",
      "                   Phrase            18\n",
      "sofas              Exact             18\n",
      "                   Phrase            18\n",
      "Name: Keyword, dtype: int64\n"
     ]
    }
   ],
   "source": [
    "# Save the final keywords to a CSV file\n",
    "keywords_df_final.to_csv('keywords.csv', )\n",
    "# View a summary of our campaign work\n",
    "summary = keywords_df_final.groupby(['Ad Group', 'Criterion Type'])['Keyword'].count()\n",
    "print(summary)"
   ]
  }
 ],
 "metadata": {
  "kernelspec": {
   "display_name": "Python 3",
   "language": "python",
   "name": "python3"
  },
  "language_info": {
   "codemirror_mode": {
    "name": "ipython",
    "version": 3
   },
   "file_extension": ".py",
   "mimetype": "text/x-python",
   "name": "python",
   "nbconvert_exporter": "python",
   "pygments_lexer": "ipython3",
   "version": "3.7.3"
  }
 },
 "nbformat": 4,
 "nbformat_minor": 4
}
